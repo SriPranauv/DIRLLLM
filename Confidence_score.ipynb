{
 "cells": [
  {
   "cell_type": "markdown",
   "metadata": {
    "id": "e0PoaJOqah_D"
   },
   "source": [
    "# Imports"
   ]
  },
  {
   "cell_type": "code",
   "execution_count": 1,
   "metadata": {
    "colab": {
     "base_uri": "https://localhost:8080/"
    },
    "collapsed": true,
    "id": "LDvzEJhBrdmp",
    "outputId": "da733bc5-f910-4876-879a-0c2a9f74d169"
   },
   "outputs": [
    {
     "name": "stdout",
     "output_type": "stream",
     "text": [
      "Collecting datasets\n",
      "  Downloading datasets-3.3.2-py3-none-any.whl.metadata (19 kB)\n",
      "Requirement already satisfied: filelock in /usr/local/lib/python3.11/dist-packages (from datasets) (3.17.0)\n",
      "Requirement already satisfied: numpy>=1.17 in /usr/local/lib/python3.11/dist-packages (from datasets) (1.26.4)\n",
      "Requirement already satisfied: pyarrow>=15.0.0 in /usr/local/lib/python3.11/dist-packages (from datasets) (18.1.0)\n",
      "Collecting dill<0.3.9,>=0.3.0 (from datasets)\n",
      "  Downloading dill-0.3.8-py3-none-any.whl.metadata (10 kB)\n",
      "Requirement already satisfied: pandas in /usr/local/lib/python3.11/dist-packages (from datasets) (2.2.2)\n",
      "Requirement already satisfied: requests>=2.32.2 in /usr/local/lib/python3.11/dist-packages (from datasets) (2.32.3)\n",
      "Requirement already satisfied: tqdm>=4.66.3 in /usr/local/lib/python3.11/dist-packages (from datasets) (4.67.1)\n",
      "Collecting xxhash (from datasets)\n",
      "  Downloading xxhash-3.5.0-cp311-cp311-manylinux_2_17_x86_64.manylinux2014_x86_64.whl.metadata (12 kB)\n",
      "Collecting multiprocess<0.70.17 (from datasets)\n",
      "  Downloading multiprocess-0.70.16-py311-none-any.whl.metadata (7.2 kB)\n",
      "Requirement already satisfied: fsspec<=2024.12.0,>=2023.1.0 in /usr/local/lib/python3.11/dist-packages (from fsspec[http]<=2024.12.0,>=2023.1.0->datasets) (2024.10.0)\n",
      "Requirement already satisfied: aiohttp in /usr/local/lib/python3.11/dist-packages (from datasets) (3.11.13)\n",
      "Requirement already satisfied: huggingface-hub>=0.24.0 in /usr/local/lib/python3.11/dist-packages (from datasets) (0.28.1)\n",
      "Requirement already satisfied: packaging in /usr/local/lib/python3.11/dist-packages (from datasets) (24.2)\n",
      "Requirement already satisfied: pyyaml>=5.1 in /usr/local/lib/python3.11/dist-packages (from datasets) (6.0.2)\n",
      "Requirement already satisfied: aiohappyeyeballs>=2.3.0 in /usr/local/lib/python3.11/dist-packages (from aiohttp->datasets) (2.4.6)\n",
      "Requirement already satisfied: aiosignal>=1.1.2 in /usr/local/lib/python3.11/dist-packages (from aiohttp->datasets) (1.3.2)\n",
      "Requirement already satisfied: attrs>=17.3.0 in /usr/local/lib/python3.11/dist-packages (from aiohttp->datasets) (25.1.0)\n",
      "Requirement already satisfied: frozenlist>=1.1.1 in /usr/local/lib/python3.11/dist-packages (from aiohttp->datasets) (1.5.0)\n",
      "Requirement already satisfied: multidict<7.0,>=4.5 in /usr/local/lib/python3.11/dist-packages (from aiohttp->datasets) (6.1.0)\n",
      "Requirement already satisfied: propcache>=0.2.0 in /usr/local/lib/python3.11/dist-packages (from aiohttp->datasets) (0.3.0)\n",
      "Requirement already satisfied: yarl<2.0,>=1.17.0 in /usr/local/lib/python3.11/dist-packages (from aiohttp->datasets) (1.18.3)\n",
      "Requirement already satisfied: typing-extensions>=3.7.4.3 in /usr/local/lib/python3.11/dist-packages (from huggingface-hub>=0.24.0->datasets) (4.12.2)\n",
      "Requirement already satisfied: charset-normalizer<4,>=2 in /usr/local/lib/python3.11/dist-packages (from requests>=2.32.2->datasets) (3.4.1)\n",
      "Requirement already satisfied: idna<4,>=2.5 in /usr/local/lib/python3.11/dist-packages (from requests>=2.32.2->datasets) (3.10)\n",
      "Requirement already satisfied: urllib3<3,>=1.21.1 in /usr/local/lib/python3.11/dist-packages (from requests>=2.32.2->datasets) (2.3.0)\n",
      "Requirement already satisfied: certifi>=2017.4.17 in /usr/local/lib/python3.11/dist-packages (from requests>=2.32.2->datasets) (2025.1.31)\n",
      "Requirement already satisfied: python-dateutil>=2.8.2 in /usr/local/lib/python3.11/dist-packages (from pandas->datasets) (2.8.2)\n",
      "Requirement already satisfied: pytz>=2020.1 in /usr/local/lib/python3.11/dist-packages (from pandas->datasets) (2025.1)\n",
      "Requirement already satisfied: tzdata>=2022.7 in /usr/local/lib/python3.11/dist-packages (from pandas->datasets) (2025.1)\n",
      "Requirement already satisfied: six>=1.5 in /usr/local/lib/python3.11/dist-packages (from python-dateutil>=2.8.2->pandas->datasets) (1.17.0)\n",
      "Downloading datasets-3.3.2-py3-none-any.whl (485 kB)\n",
      "\u001b[2K   \u001b[90m━━━━━━━━━━━━━━━━━━━━━━━━━━━━━━━━━━━━━━━━\u001b[0m \u001b[32m485.4/485.4 kB\u001b[0m \u001b[31m14.6 MB/s\u001b[0m eta \u001b[36m0:00:00\u001b[0m\n",
      "\u001b[?25hDownloading dill-0.3.8-py3-none-any.whl (116 kB)\n",
      "\u001b[2K   \u001b[90m━━━━━━━━━━━━━━━━━━━━━━━━━━━━━━━━━━━━━━━━\u001b[0m \u001b[32m116.3/116.3 kB\u001b[0m \u001b[31m8.8 MB/s\u001b[0m eta \u001b[36m0:00:00\u001b[0m\n",
      "\u001b[?25hDownloading multiprocess-0.70.16-py311-none-any.whl (143 kB)\n",
      "\u001b[2K   \u001b[90m━━━━━━━━━━━━━━━━━━━━━━━━━━━━━━━━━━━━━━━━\u001b[0m \u001b[32m143.5/143.5 kB\u001b[0m \u001b[31m9.0 MB/s\u001b[0m eta \u001b[36m0:00:00\u001b[0m\n",
      "\u001b[?25hDownloading xxhash-3.5.0-cp311-cp311-manylinux_2_17_x86_64.manylinux2014_x86_64.whl (194 kB)\n",
      "\u001b[2K   \u001b[90m━━━━━━━━━━━━━━━━━━━━━━━━━━━━━━━━━━━━━━━━\u001b[0m \u001b[32m194.8/194.8 kB\u001b[0m \u001b[31m13.2 MB/s\u001b[0m eta \u001b[36m0:00:00\u001b[0m\n",
      "\u001b[?25hInstalling collected packages: xxhash, dill, multiprocess, datasets\n",
      "Successfully installed datasets-3.3.2 dill-0.3.8 multiprocess-0.70.16 xxhash-3.5.0\n"
     ]
    }
   ],
   "source": [
    "!pip install datasets"
   ]
  },
  {
   "cell_type": "code",
   "execution_count": 2,
   "metadata": {
    "colab": {
     "base_uri": "https://localhost:8080/"
    },
    "collapsed": true,
    "id": "pb22b7y3rfgn",
    "outputId": "33323648-1be4-457a-ca08-24eef98c30a2"
   },
   "outputs": [
    {
     "name": "stdout",
     "output_type": "stream",
     "text": [
      "Requirement already satisfied: transformers in /usr/local/lib/python3.11/dist-packages (4.48.3)\n",
      "Requirement already satisfied: filelock in /usr/local/lib/python3.11/dist-packages (from transformers) (3.17.0)\n",
      "Requirement already satisfied: huggingface-hub<1.0,>=0.24.0 in /usr/local/lib/python3.11/dist-packages (from transformers) (0.28.1)\n",
      "Requirement already satisfied: numpy>=1.17 in /usr/local/lib/python3.11/dist-packages (from transformers) (1.26.4)\n",
      "Requirement already satisfied: packaging>=20.0 in /usr/local/lib/python3.11/dist-packages (from transformers) (24.2)\n",
      "Requirement already satisfied: pyyaml>=5.1 in /usr/local/lib/python3.11/dist-packages (from transformers) (6.0.2)\n",
      "Requirement already satisfied: regex!=2019.12.17 in /usr/local/lib/python3.11/dist-packages (from transformers) (2024.11.6)\n",
      "Requirement already satisfied: requests in /usr/local/lib/python3.11/dist-packages (from transformers) (2.32.3)\n",
      "Requirement already satisfied: tokenizers<0.22,>=0.21 in /usr/local/lib/python3.11/dist-packages (from transformers) (0.21.0)\n",
      "Requirement already satisfied: safetensors>=0.4.1 in /usr/local/lib/python3.11/dist-packages (from transformers) (0.5.3)\n",
      "Requirement already satisfied: tqdm>=4.27 in /usr/local/lib/python3.11/dist-packages (from transformers) (4.67.1)\n",
      "Requirement already satisfied: fsspec>=2023.5.0 in /usr/local/lib/python3.11/dist-packages (from huggingface-hub<1.0,>=0.24.0->transformers) (2024.10.0)\n",
      "Requirement already satisfied: typing-extensions>=3.7.4.3 in /usr/local/lib/python3.11/dist-packages (from huggingface-hub<1.0,>=0.24.0->transformers) (4.12.2)\n",
      "Requirement already satisfied: charset-normalizer<4,>=2 in /usr/local/lib/python3.11/dist-packages (from requests->transformers) (3.4.1)\n",
      "Requirement already satisfied: idna<4,>=2.5 in /usr/local/lib/python3.11/dist-packages (from requests->transformers) (3.10)\n",
      "Requirement already satisfied: urllib3<3,>=1.21.1 in /usr/local/lib/python3.11/dist-packages (from requests->transformers) (2.3.0)\n",
      "Requirement already satisfied: certifi>=2017.4.17 in /usr/local/lib/python3.11/dist-packages (from requests->transformers) (2025.1.31)\n"
     ]
    }
   ],
   "source": [
    "!pip install transformers"
   ]
  },
  {
   "cell_type": "code",
   "execution_count": 3,
   "metadata": {
    "colab": {
     "base_uri": "https://localhost:8080/"
    },
    "collapsed": true,
    "id": "bMbDte2PrfrQ",
    "outputId": "23fa3166-9f64-493a-b553-d2dce7eecc90"
   },
   "outputs": [
    {
     "name": "stdout",
     "output_type": "stream",
     "text": [
      "Collecting evaluate\n",
      "  Downloading evaluate-0.4.3-py3-none-any.whl.metadata (9.2 kB)\n",
      "Requirement already satisfied: datasets>=2.0.0 in /usr/local/lib/python3.11/dist-packages (from evaluate) (3.3.2)\n",
      "Requirement already satisfied: numpy>=1.17 in /usr/local/lib/python3.11/dist-packages (from evaluate) (1.26.4)\n",
      "Requirement already satisfied: dill in /usr/local/lib/python3.11/dist-packages (from evaluate) (0.3.8)\n",
      "Requirement already satisfied: pandas in /usr/local/lib/python3.11/dist-packages (from evaluate) (2.2.2)\n",
      "Requirement already satisfied: requests>=2.19.0 in /usr/local/lib/python3.11/dist-packages (from evaluate) (2.32.3)\n",
      "Requirement already satisfied: tqdm>=4.62.1 in /usr/local/lib/python3.11/dist-packages (from evaluate) (4.67.1)\n",
      "Requirement already satisfied: xxhash in /usr/local/lib/python3.11/dist-packages (from evaluate) (3.5.0)\n",
      "Requirement already satisfied: multiprocess in /usr/local/lib/python3.11/dist-packages (from evaluate) (0.70.16)\n",
      "Requirement already satisfied: fsspec>=2021.05.0 in /usr/local/lib/python3.11/dist-packages (from fsspec[http]>=2021.05.0->evaluate) (2024.10.0)\n",
      "Requirement already satisfied: huggingface-hub>=0.7.0 in /usr/local/lib/python3.11/dist-packages (from evaluate) (0.28.1)\n",
      "Requirement already satisfied: packaging in /usr/local/lib/python3.11/dist-packages (from evaluate) (24.2)\n",
      "Requirement already satisfied: filelock in /usr/local/lib/python3.11/dist-packages (from datasets>=2.0.0->evaluate) (3.17.0)\n",
      "Requirement already satisfied: pyarrow>=15.0.0 in /usr/local/lib/python3.11/dist-packages (from datasets>=2.0.0->evaluate) (18.1.0)\n",
      "Requirement already satisfied: aiohttp in /usr/local/lib/python3.11/dist-packages (from datasets>=2.0.0->evaluate) (3.11.13)\n",
      "Requirement already satisfied: pyyaml>=5.1 in /usr/local/lib/python3.11/dist-packages (from datasets>=2.0.0->evaluate) (6.0.2)\n",
      "Requirement already satisfied: typing-extensions>=3.7.4.3 in /usr/local/lib/python3.11/dist-packages (from huggingface-hub>=0.7.0->evaluate) (4.12.2)\n",
      "Requirement already satisfied: charset-normalizer<4,>=2 in /usr/local/lib/python3.11/dist-packages (from requests>=2.19.0->evaluate) (3.4.1)\n",
      "Requirement already satisfied: idna<4,>=2.5 in /usr/local/lib/python3.11/dist-packages (from requests>=2.19.0->evaluate) (3.10)\n",
      "Requirement already satisfied: urllib3<3,>=1.21.1 in /usr/local/lib/python3.11/dist-packages (from requests>=2.19.0->evaluate) (2.3.0)\n",
      "Requirement already satisfied: certifi>=2017.4.17 in /usr/local/lib/python3.11/dist-packages (from requests>=2.19.0->evaluate) (2025.1.31)\n",
      "Requirement already satisfied: python-dateutil>=2.8.2 in /usr/local/lib/python3.11/dist-packages (from pandas->evaluate) (2.8.2)\n",
      "Requirement already satisfied: pytz>=2020.1 in /usr/local/lib/python3.11/dist-packages (from pandas->evaluate) (2025.1)\n",
      "Requirement already satisfied: tzdata>=2022.7 in /usr/local/lib/python3.11/dist-packages (from pandas->evaluate) (2025.1)\n",
      "Requirement already satisfied: aiohappyeyeballs>=2.3.0 in /usr/local/lib/python3.11/dist-packages (from aiohttp->datasets>=2.0.0->evaluate) (2.4.6)\n",
      "Requirement already satisfied: aiosignal>=1.1.2 in /usr/local/lib/python3.11/dist-packages (from aiohttp->datasets>=2.0.0->evaluate) (1.3.2)\n",
      "Requirement already satisfied: attrs>=17.3.0 in /usr/local/lib/python3.11/dist-packages (from aiohttp->datasets>=2.0.0->evaluate) (25.1.0)\n",
      "Requirement already satisfied: frozenlist>=1.1.1 in /usr/local/lib/python3.11/dist-packages (from aiohttp->datasets>=2.0.0->evaluate) (1.5.0)\n",
      "Requirement already satisfied: multidict<7.0,>=4.5 in /usr/local/lib/python3.11/dist-packages (from aiohttp->datasets>=2.0.0->evaluate) (6.1.0)\n",
      "Requirement already satisfied: propcache>=0.2.0 in /usr/local/lib/python3.11/dist-packages (from aiohttp->datasets>=2.0.0->evaluate) (0.3.0)\n",
      "Requirement already satisfied: yarl<2.0,>=1.17.0 in /usr/local/lib/python3.11/dist-packages (from aiohttp->datasets>=2.0.0->evaluate) (1.18.3)\n",
      "Requirement already satisfied: six>=1.5 in /usr/local/lib/python3.11/dist-packages (from python-dateutil>=2.8.2->pandas->evaluate) (1.17.0)\n",
      "Downloading evaluate-0.4.3-py3-none-any.whl (84 kB)\n",
      "\u001b[2K   \u001b[90m━━━━━━━━━━━━━━━━━━━━━━━━━━━━━━━━━━━━━━━━\u001b[0m \u001b[32m84.0/84.0 kB\u001b[0m \u001b[31m2.9 MB/s\u001b[0m eta \u001b[36m0:00:00\u001b[0m\n",
      "\u001b[?25hInstalling collected packages: evaluate\n",
      "Successfully installed evaluate-0.4.3\n"
     ]
    }
   ],
   "source": [
    "!pip install evaluate"
   ]
  },
  {
   "cell_type": "code",
   "execution_count": 4,
   "metadata": {
    "id": "vwuFsAkDrGEJ"
   },
   "outputs": [],
   "source": [
    "from sklearn.model_selection import train_test_split\n",
    "from datasets import Dataset, DatasetDict, load_dataset, interleave_datasets, load_from_disk\n",
    "from transformers import AutoModelForSeq2SeqLM, AutoTokenizer, GenerationConfig, TrainingArguments, Trainer\n",
    "import torch\n",
    "import time\n",
    "import evaluate\n",
    "import pandas as pd\n",
    "import numpy as np\n",
    "\n",
    "import warnings\n",
    "warnings.filterwarnings(\"ignore\")"
   ]
  },
  {
   "cell_type": "markdown",
   "metadata": {
    "id": "Q2GgE-k_al0f"
   },
   "source": [
    "# Model Load"
   ]
  },
  {
   "cell_type": "code",
   "execution_count": 5,
   "metadata": {
    "colab": {
     "base_uri": "https://localhost:8080/"
    },
    "collapsed": true,
    "id": "_aSzPRKNKY8N",
    "outputId": "fd3e4262-ed58-484e-ef91-529b4caa68fe"
   },
   "outputs": [
    {
     "name": "stdout",
     "output_type": "stream",
     "text": [
      "Archive:  /content/drive/MyDrive/Dirllm/distilled_model.zip\n",
      "   creating: /content/distilled/\n",
      "  inflating: /content/distilled/config.json  \n",
      "  inflating: /content/distilled/generation_config.json  \n",
      "  inflating: /content/distilled/model.safetensors  \n"
     ]
    }
   ],
   "source": [
    "!unzip \"/content/drive/MyDrive/Dirllm/distilled_model.zip\" -d \"/content/\""
   ]
  },
  {
   "cell_type": "code",
   "execution_count": 6,
   "metadata": {
    "colab": {
     "base_uri": "https://localhost:8080/"
    },
    "collapsed": true,
    "id": "wE6OpUOuPGL5",
    "outputId": "d9fda028-8563-4f81-9b57-7b632059ea67"
   },
   "outputs": [
    {
     "name": "stdout",
     "output_type": "stream",
     "text": [
      "Archive:  /content/drive/MyDrive/Dirllm/Teacher_dataset.zip\n",
      "   creating: /content/Teacher_dataset/\n",
      " extracting: /content/Teacher_dataset/dataset_dict.json  \n",
      "   creating: /content/Teacher_dataset/test/\n",
      "  inflating: /content/Teacher_dataset/test/cache-073a0a915559c680.arrow  \n",
      "  inflating: /content/Teacher_dataset/test/data-00000-of-00001.arrow  \n",
      "  inflating: /content/Teacher_dataset/test/dataset_info.json  \n",
      "  inflating: /content/Teacher_dataset/test/state.json  \n",
      "   creating: /content/Teacher_dataset/train/\n",
      "  inflating: /content/Teacher_dataset/train/cache-584a84910cca543c.arrow  \n",
      "  inflating: /content/Teacher_dataset/train/data-00000-of-00001.arrow  \n",
      "  inflating: /content/Teacher_dataset/train/dataset_info.json  \n",
      "  inflating: /content/Teacher_dataset/train/state.json  \n",
      "   creating: /content/Teacher_dataset/validation/\n",
      "  inflating: /content/Teacher_dataset/validation/cache-41ad7b289e7d3c9b.arrow  \n",
      "  inflating: /content/Teacher_dataset/validation/data-00000-of-00001.arrow  \n",
      "  inflating: /content/Teacher_dataset/validation/dataset_info.json  \n",
      "  inflating: /content/Teacher_dataset/validation/state.json  \n"
     ]
    }
   ],
   "source": [
    "!unzip \"/content/drive/MyDrive/Dirllm/Teacher_dataset.zip\" -d \"/content/\""
   ]
  },
  {
   "cell_type": "code",
   "execution_count": 7,
   "metadata": {
    "colab": {
     "base_uri": "https://localhost:8080/"
    },
    "id": "x_lbX4sSt6aN",
    "outputId": "3db939f8-5056-4eac-c0bf-d4de7ad397d4"
   },
   "outputs": [
    {
     "name": "stdout",
     "output_type": "stream",
     "text": [
      "Load success\n"
     ]
    }
   ],
   "source": [
    "try:\n",
    "    finetuned_model = AutoModelForSeq2SeqLM.from_pretrained(\"distilled\")\n",
    "    finetuned_model = finetuned_model.to('cuda')\n",
    "    print(\"Load success\")\n",
    "\n",
    "except:\n",
    "    print(\"Load Failure\")"
   ]
  },
  {
   "cell_type": "code",
   "execution_count": null,
   "metadata": {
    "colab": {
     "base_uri": "https://localhost:8080/"
    },
    "id": "YXu9VqS-HY8w",
    "outputId": "f6f1b8fc-0596-4e38-977a-7936b781a67c"
   },
   "outputs": [
    {
     "name": "stdout",
     "output_type": "stream",
     "text": [
      "Loaded Merged Dataset\n"
     ]
    }
   ],
   "source": [
    "try:\n",
    "    dataset = load_from_disk(\"Teacher_dataset\")\n",
    "    print(\"Loaded Merged Dataset\")\n",
    "except:\n",
    "    print(\"Load Failure\")"
   ]
  },
  {
   "cell_type": "code",
   "execution_count": 8,
   "metadata": {
    "colab": {
     "base_uri": "https://localhost:8080/",
     "height": 113,
     "referenced_widgets": [
      "1a1911483ba64c8bbce601deb408d44c",
      "805ac31caf4942028bdade0fb3e134ff",
      "bad77730d2df4278b8dac7e97bd5ea6a",
      "5c6507d24a3b42139c581eb9947fdc58",
      "baa290ac207f4064b9ceaf5ecb7ffd00",
      "9dbb64a42ef64316a85aed569a2b0fc5",
      "d704f8f3b0704063ac8ab7d080a90fe1",
      "ed555cd90a104fcf93e75f98046de664",
      "7586a09f7f854c8dbe99e0637b199726",
      "40b736645fc9498b823c5a759792ba56",
      "a347bceb87f34dcfa683080d80d027a8",
      "fb59db8a22514c3aa2be7a09caf3167c",
      "676ab61069f64501991957c826e6f892",
      "ef3bb4290d964ba1986887ead7dc1e92",
      "dbe36f36af8240908a68395cfc69f989",
      "aaaff59946d24605982f43fdca08f12a",
      "4639eb2d5d934bb6b7fa809ebb0bb2d5",
      "36f099b7b4764f40b892b2af93e6fd72",
      "6b941d47d7db4e95889d3176cd4f3dfd",
      "159e99cb730b4f55988e07c3bc09df32",
      "2930f2a4c8294a2da7ec1e3bb8ac42db",
      "eeef145325b8442b9fbc38facb404541",
      "39c02620a8af4106b84262e5a37a5eeb",
      "8571746866b94a47b6b965c4101f6a58",
      "68e85d4984964c3b9cb3c830b7ba77ea",
      "994b7e61a4d44715a93d5ea2376d1173",
      "58c047583cf24f9b87f667f7ec17c35d",
      "86b95ae04d37448fa9f09df475ee06b5",
      "7d424b15574c4e96b39a9f5d09f47d12",
      "645001cf852d438ea99a0d25a8112944",
      "2537aeb2954e4faca901b0bc42f691a0",
      "50285075fe7c407e93d6f5ce2f0d667a",
      "4eb86ecc51bd4897954b57effdd67b00"
     ]
    },
    "id": "JLM4inQvK-Go",
    "outputId": "3b5d9551-cb22-4006-87ea-93094cf8bdef"
   },
   "outputs": [
    {
     "data": {
      "application/vnd.jupyter.widget-view+json": {
       "model_id": "1a1911483ba64c8bbce601deb408d44c",
       "version_major": 2,
       "version_minor": 0
      },
      "text/plain": [
       "tokenizer_config.json:   0%|          | 0.00/2.32k [00:00<?, ?B/s]"
      ]
     },
     "metadata": {},
     "output_type": "display_data"
    },
    {
     "data": {
      "application/vnd.jupyter.widget-view+json": {
       "model_id": "fb59db8a22514c3aa2be7a09caf3167c",
       "version_major": 2,
       "version_minor": 0
      },
      "text/plain": [
       "spiece.model:   0%|          | 0.00/792k [00:00<?, ?B/s]"
      ]
     },
     "metadata": {},
     "output_type": "display_data"
    },
    {
     "data": {
      "application/vnd.jupyter.widget-view+json": {
       "model_id": "39c02620a8af4106b84262e5a37a5eeb",
       "version_major": 2,
       "version_minor": 0
      },
      "text/plain": [
       "tokenizer.json:   0%|          | 0.00/1.39M [00:00<?, ?B/s]"
      ]
     },
     "metadata": {},
     "output_type": "display_data"
    }
   ],
   "source": [
    "model_name='t5-small'\n",
    "tokenizer = AutoTokenizer.from_pretrained(model_name)"
   ]
  },
  {
   "cell_type": "code",
   "execution_count": null,
   "metadata": {
    "id": "68c5-6TgiPX6"
   },
   "outputs": [],
   "source": []
  },
  {
   "cell_type": "markdown",
   "metadata": {
    "id": "tHXgbMp9a89_"
   },
   "source": [
    "# Import test set"
   ]
  },
  {
   "cell_type": "code",
   "execution_count": 9,
   "metadata": {
    "colab": {
     "base_uri": "https://localhost:8080/",
     "height": 228
    },
    "id": "EesA416NLzgM",
    "outputId": "0609481b-a461-47ca-8e90-6aec4b468776"
   },
   "outputs": [
    {
     "name": "stdout",
     "output_type": "stream",
     "text": [
      "Type in the index of question to be extracted (1 to 200): 7\n"
     ]
    },
    {
     "ename": "NameError",
     "evalue": "name 'dataset' is not defined",
     "output_type": "error",
     "traceback": [
      "\u001b[0;31m---------------------------------------------------------------------------\u001b[0m",
      "\u001b[0;31mNameError\u001b[0m                                 Traceback (most recent call last)",
      "\u001b[0;32m<ipython-input-9-2cabda1b54a1>\u001b[0m in \u001b[0;36m<cell line: 0>\u001b[0;34m()\u001b[0m\n\u001b[1;32m      2\u001b[0m \u001b[0mindex\u001b[0m \u001b[0;34m=\u001b[0m \u001b[0mint\u001b[0m\u001b[0;34m(\u001b[0m\u001b[0minput\u001b[0m\u001b[0;34m(\u001b[0m\u001b[0;34m\"Type in the index of question to be extracted (1 to 200): \"\u001b[0m\u001b[0;34m)\u001b[0m\u001b[0;34m)\u001b[0m\u001b[0;34m\u001b[0m\u001b[0;34m\u001b[0m\u001b[0m\n\u001b[1;32m      3\u001b[0m \u001b[0;31m# Question from test set using index\u001b[0m\u001b[0;34m\u001b[0m\u001b[0;34m\u001b[0m\u001b[0m\n\u001b[0;32m----> 4\u001b[0;31m \u001b[0mquestion\u001b[0m \u001b[0;34m=\u001b[0m \u001b[0mdataset\u001b[0m\u001b[0;34m[\u001b[0m\u001b[0;34m'test'\u001b[0m\u001b[0;34m]\u001b[0m\u001b[0;34m[\u001b[0m\u001b[0mindex\u001b[0m\u001b[0;34m]\u001b[0m\u001b[0;34m[\u001b[0m\u001b[0;34m'question'\u001b[0m\u001b[0;34m]\u001b[0m\u001b[0;34m\u001b[0m\u001b[0;34m\u001b[0m\u001b[0m\n\u001b[0m\u001b[1;32m      5\u001b[0m \u001b[0mcontext\u001b[0m \u001b[0;34m=\u001b[0m \u001b[0mdataset\u001b[0m\u001b[0;34m[\u001b[0m\u001b[0;34m'test'\u001b[0m\u001b[0;34m]\u001b[0m\u001b[0;34m[\u001b[0m\u001b[0mindex\u001b[0m\u001b[0;34m]\u001b[0m\u001b[0;34m[\u001b[0m\u001b[0;34m'context'\u001b[0m\u001b[0;34m]\u001b[0m\u001b[0;34m\u001b[0m\u001b[0;34m\u001b[0m\u001b[0m\n\u001b[1;32m      6\u001b[0m \u001b[0manswer\u001b[0m \u001b[0;34m=\u001b[0m \u001b[0mdataset\u001b[0m\u001b[0;34m[\u001b[0m\u001b[0;34m'test'\u001b[0m\u001b[0;34m]\u001b[0m\u001b[0;34m[\u001b[0m\u001b[0mindex\u001b[0m\u001b[0;34m]\u001b[0m\u001b[0;34m[\u001b[0m\u001b[0;34m'answer'\u001b[0m\u001b[0;34m]\u001b[0m\u001b[0;34m\u001b[0m\u001b[0;34m\u001b[0m\u001b[0m\n",
      "\u001b[0;31mNameError\u001b[0m: name 'dataset' is not defined"
     ]
    }
   ],
   "source": [
    "#Index for question selection\n",
    "index = int(input(\"Type in the index of question to be extracted (1 to 200): \"))\n",
    "# Question from test set using index\n",
    "question = dataset['test'][index]['question']\n",
    "context = dataset['test'][index]['context']\n",
    "answer = dataset['test'][index]['answer']\n",
    "#Show the imported test question\n",
    "print(f\"Question: {question}\")\n",
    "print(f\"Context: {context}\")\n",
    "print(f\"Answer: {answer}\")"
   ]
  },
  {
   "cell_type": "markdown",
   "metadata": {
    "id": "RYGgsxKna2ay"
   },
   "source": [
    "# Custom Question"
   ]
  },
  {
   "cell_type": "markdown",
   "metadata": {
    "id": "nZMSCq7vkC1E"
   },
   "source": [
    "Sample Contexts:\n",
    "\n",
    "CREATE TABLE rec_mart_sales (\"Date of Sale\" date, \"item name\" text, \"item price\" number, \"Customer Name\" text)\n",
    "\n",
    "CREATE TABLE rec_print_sales (\"Date of Transaction\" date, \"No. of print pages\" number, \"No. of Xerox\" copies number, \"Student name\" text, \"Amount paid\" number)"
   ]
  },
  {
   "cell_type": "code",
   "execution_count": 10,
   "metadata": {
    "colab": {
     "base_uri": "https://localhost:8080/"
    },
    "id": "W-fhv4KJPF4H",
    "outputId": "f83c80ac-ba87-4cb2-9fc8-3e50d1dc419f"
   },
   "outputs": [
    {
     "name": "stdout",
     "output_type": "stream",
     "text": [
      "Write the SQL for context table creation: CREATE TABLE rec_print_sales (\"Date of Transaction\" date, \"No. of print pages\" number, \"No. of Xerox\" copies number, \"Student name\" text, \"Amount paid\" number)\n"
     ]
    }
   ],
   "source": [
    "#custom input\n",
    "context = input(\"Write the SQL for context table creation: \")"
   ]
  },
  {
   "cell_type": "code",
   "execution_count": 11,
   "metadata": {
    "colab": {
     "base_uri": "https://localhost:8080/"
    },
    "id": "GVkDqhd7MnlV",
    "outputId": "b7044419-964c-4d88-bc02-b4ad25cadc58"
   },
   "outputs": [
    {
     "name": "stdout",
     "output_type": "stream",
     "text": [
      "What is the prompt to be asked?: When did Hari takes 10 pages print?\n"
     ]
    }
   ],
   "source": [
    "question = input(\"What is the prompt to be asked?: \")\n",
    "answer = \"Flag\""
   ]
  },
  {
   "cell_type": "code",
   "execution_count": 12,
   "metadata": {
    "id": "DJH5d42ljGUJ"
   },
   "outputs": [],
   "source": [
    "prompt = f\"\"\"Tables:\n",
    "{context}\n",
    "\n",
    "Question:\n",
    "{question}\n",
    "\n",
    "Answer:\n",
    "\"\"\""
   ]
  },
  {
   "cell_type": "code",
   "execution_count": 13,
   "metadata": {
    "id": "iaSzLigyjKbA"
   },
   "outputs": [],
   "source": [
    "#input tokenisation\n",
    "inputs = tokenizer(prompt, return_tensors='pt')\n",
    "inputs = inputs.to('cuda')"
   ]
  },
  {
   "cell_type": "code",
   "execution_count": 14,
   "metadata": {
    "id": "Ze-R26gajKhx"
   },
   "outputs": [],
   "source": [
    "#output inference\n",
    "output = tokenizer.decode(\n",
    "    finetuned_model.generate(\n",
    "        inputs[\"input_ids\"],\n",
    "        max_new_tokens=200,\n",
    "    )[0],\n",
    "    skip_special_tokens=True\n",
    ")"
   ]
  },
  {
   "cell_type": "code",
   "execution_count": 15,
   "metadata": {
    "colab": {
     "base_uri": "https://localhost:8080/",
     "height": 35
    },
    "id": "0EQjMQB-jPyB",
    "outputId": "d0456155-d96c-4dec-83e4-0bb304e7e66b"
   },
   "outputs": [
    {
     "data": {
      "application/vnd.google.colaboratory.intrinsic+json": {
       "type": "string"
      },
      "text/plain": [
       "'SELECT \"Date of Transaction\" FROM rec_print_sales WHERE \"Date of Transaction\" = \\'10 pages\\''"
      ]
     },
     "execution_count": 15,
     "metadata": {},
     "output_type": "execute_result"
    }
   ],
   "source": [
    "output"
   ]
  },
  {
   "cell_type": "code",
   "execution_count": 24,
   "metadata": {
    "id": "wyjs8GS_ixBE"
   },
   "outputs": [],
   "source": [
    "def generate_sql_queries(natural_query, num_samples):\n",
    "    input_text = f\"Convert to SQL: {natural_query}\"\n",
    "\n",
    "    device = torch.device(\"cuda\" if torch.cuda.is_available() else \"cpu\")  # Check available device\n",
    "\n",
    "    input_ids = tokenizer(input_text, return_tensors=\"pt\").input_ids.to(device)  # Move input_ids to GPU\n",
    "\n",
    "    finetuned_model.to(device)  # Ensure model is on the same device\n",
    "\n",
    "    outputs = finetuned_model.generate(\n",
    "        input_ids,\n",
    "        max_length=100,\n",
    "        num_return_sequences=num_samples,\n",
    "        num_beams=10,  # Beam search for diverse outputs\n",
    "        early_stopping=True\n",
    "    )\n",
    "\n",
    "    return [tokenizer.decode(output, skip_special_tokens=True) for output in outputs]\n"
   ]
  },
  {
   "cell_type": "code",
   "execution_count": 23,
   "metadata": {
    "id": "pybgfa5Fj-Ut"
   },
   "outputs": [],
   "source": []
  },
  {
   "cell_type": "code",
   "execution_count": 38,
   "metadata": {
    "colab": {
     "base_uri": "https://localhost:8080/"
    },
    "id": "TRnFUZMOjbON",
    "outputId": "07d3c86b-103a-4f8f-d973-f912aef57a45"
   },
   "outputs": [
    {
     "name": "stdout",
     "output_type": "stream",
     "text": [
      "SELECT \"Date of Transaction\" FROM table_print_sales WHERE \"Date of Transaction\" = '10 pages'\n",
      "SELECT \"Date of Transaction\" FROM rec_print_sales WHERE \"Date of Transaction\" = '10 pages'\n",
      "SELECT SELECT \"Date of Transaction\" FROM table_print_sales WHERE \"Date of Transaction\" = '10 pages'\n",
      "SELECT \"Date of Transaction\" FROM tables_print_sales WHERE \"Date of Transaction\" = '10 pages'\n",
      "SELECT \"Date of Transaction\" FROM SELECT \"Date of Transaction\" FROM table_print_sales WHERE \"Date of Transaction\" = '10 pages'\n"
     ]
    }
   ],
   "source": [
    "for i in generate_sql_queries(output, 5):\n",
    "  print(i)"
   ]
  },
  {
   "cell_type": "code",
   "execution_count": 31,
   "metadata": {
    "id": "vkT1QWzRl-He"
   },
   "outputs": [],
   "source": [
    "def get_query_log_prob(query):\n",
    "    \"\"\"Compute log probability for a generated SQL query.\"\"\"\n",
    "    device = torch.device(\"cuda\" if torch.cuda.is_available() else \"cpu\")  # Check available device\n",
    "\n",
    "    input_ids = tokenizer(query, return_tensors=\"pt\").input_ids.to(device)  # Move input_ids to GPU\n",
    "    finetuned_model.to(device)  # Ensure model is on the same device\n",
    "\n",
    "    with torch.no_grad():\n",
    "        outputs = finetuned_model(input_ids, labels=input_ids)\n",
    "        log_prob = -outputs.loss.item()  # Negative loss as confidence score\n",
    "\n",
    "    return log_prob\n"
   ]
  },
  {
   "cell_type": "code",
   "execution_count": 32,
   "metadata": {
    "colab": {
     "base_uri": "https://localhost:8080/"
    },
    "id": "7uSYBpIPmJ1c",
    "outputId": "fbd139e0-c579-4816-dd15-3baed7d0a3de"
   },
   "outputs": [
    {
     "name": "stderr",
     "output_type": "stream",
     "text": [
      "Passing a tuple of `past_key_values` is deprecated and will be removed in Transformers v4.48.0. You should pass an instance of `EncoderDecoderCache` instead, e.g. `past_key_values=EncoderDecoderCache.from_legacy_cache(past_key_values)`.\n"
     ]
    },
    {
     "name": "stdout",
     "output_type": "stream",
     "text": [
      "-0.014908058568835258\n",
      "-0.02384999394416809\n",
      "-0.08849175274372101\n",
      "-0.08051127940416336\n",
      "-0.2895098328590393\n"
     ]
    }
   ],
   "source": [
    "for i in generate_sql_queries(output, 5):\n",
    "  print(get_query_log_prob(i))"
   ]
  },
  {
   "cell_type": "code",
   "execution_count": 33,
   "metadata": {
    "id": "3JxEYaBWm0Yz"
   },
   "outputs": [],
   "source": [
    "import sqlparse\n",
    "\n",
    "def is_valid_sql(query):\n",
    "    \"\"\"Check if SQL query has valid syntax.\"\"\"\n",
    "    try:\n",
    "        parsed = sqlparse.parse(query)\n",
    "        return len(parsed) > 0\n",
    "    except:\n",
    "        return False\n"
   ]
  },
  {
   "cell_type": "code",
   "execution_count": 35,
   "metadata": {
    "colab": {
     "base_uri": "https://localhost:8080/"
    },
    "id": "4ck-UM-lm3E3",
    "outputId": "3c078844-f4b3-4836-ac74-dc06fc0a9359"
   },
   "outputs": [
    {
     "name": "stdout",
     "output_type": "stream",
     "text": [
      "True\n",
      "True\n",
      "True\n",
      "True\n",
      "True\n"
     ]
    }
   ],
   "source": [
    "for i in generate_sql_queries(output, 5):\n",
    "  print(is_valid_sql(i))"
   ]
  },
  {
   "cell_type": "code",
   "execution_count": 36,
   "metadata": {
    "colab": {
     "base_uri": "https://localhost:8080/",
     "height": 369,
     "referenced_widgets": [
      "6ddd7d0b9a6546e680f0d3b8ba8bbbb4",
      "7d9ad9cda568403cbf14f3726ecd3a27",
      "8dd6db5499564cbba5a045dc31cd7f84",
      "131b971c7d0643468c74865fa1e35060",
      "34eb3a2086ad479ebf53b460f66a6fbb",
      "474cc90fdace46b5a38b1044ed1857d2",
      "24c9346b682c453d85f7065c768f19f8",
      "af720c9ebda64d0d96d07945990cd909",
      "4d5d6f06f0074820b22cb2171b4280c3",
      "05413e2e19e74d9ba6a697df21e78b9f",
      "8f7d6ed960cc4f6891e38a1dc7eb3879",
      "9116d61d43c04b02bdfa206b107578b1",
      "13b0ef21716e468ebfe348a6f7471956",
      "135b56ae39224c1c8059ee278ffe5471",
      "e228efedac3c488dac76c7eda6cc8149",
      "2edb3fa239d64b9c90fa71a7cdc61b07",
      "c2cbc070a89346559018d2a3728b3d7d",
      "65c2f7b849724d71818f59e1806df1d3",
      "9e177a4ac88b4939ad9f80d582bbbf04",
      "85ed01162e92484c935e735c9b7f3a5d",
      "280c3dacda0c4c43a9f43d7ce90519e0",
      "5e0ddeba10864088acca3d06460cfa07",
      "c25f42c228034563b2a5cab12d1e664e",
      "3d2357b1a3704f5cbd65ad0a2994dcc8",
      "827627dcf2a647e090c033f6b260fe42",
      "a760972aca7444f0aab6c26a1ee878c5",
      "b3676e54cfdc438aacd03cdda3dc2fd6",
      "0544d3803fda4b1fa36799eceea7c98d",
      "6171004bd5004925b603674bdf793a36",
      "2e2970c96f3c489995af1a9c73a2f200",
      "6a004336f57a45bdb6c5d5baa8f468e9",
      "f61192c2debb4f0d8a0c458844ef1cf8",
      "5a04823b3d2942a9affa2f1afc6950c0",
      "9887f943572d44dea09a9a6b5467ed1c",
      "61b1fa5e8485488696ea21939b80af7d",
      "e1282672621f46a995b4802a29c56e85",
      "560f5f0607354b79a5b188a52f0fea99",
      "a5b7ebd7f2204deaa0a5a1e7d7aac766",
      "c61e3c0ba1404f87a392c84fc69c63da",
      "d9b19db2f09449138327b09d60553d09",
      "91a9bbc1f6b946e4a4644fe3e81b7d9b",
      "b788da3f74f844e08fd94d37441e7c1c",
      "1616c1ea7b114340953a595802e76ba1",
      "99605d8e54bd40f2888771106c9397ff",
      "083bae4586b6478b9c4bda8308030ce3",
      "a6539d672e394b09b4e5d9ceb10590b2",
      "20eff36a73c9459381d10fe84f7c27b6",
      "c7b139aa7cf64507a834c2252b552fe0",
      "a549a646d70348d6a5132020f8f5dae5",
      "b1f783ffc52b43ab9b0b29a148299213",
      "b57c54473e174f75bc87a22961c02b5d",
      "5834779fce584d35b027f3d95b1e3f60",
      "935740bd96ce4c2b9fd8e98a8a549721",
      "dc16a89936f94128a501c1ff89b286e0",
      "2e06442db55044078d3ca96d97d8291d",
      "ed8c802da21c4908a74fd29e9c85c90e",
      "c0e2f0860fc147309c67ca56e3a3889f",
      "9527ecd459964be5b60f6d0c2c2d5ebc",
      "1f922269c72a4673841ba786995045aa",
      "c4ffb8cb764d4c22b2f341450fdca2e6",
      "453d7d48449f4464b94b3465ae7576eb",
      "5ee7c314cc224219beb6ec6eefa385bf",
      "e9886fcbf0874d5f9e7aba2329aab764",
      "bace21963bc5484daa8761e5b784ef79",
      "ff60c40e4cc14b028739440f21da824a",
      "79da570b80eb4e7bb2cb5c5b515d59a8",
      "9f48bb47b9914248b2f50f23cc605ef3",
      "3d9f1e09df874ae3b17349757454e069",
      "85fa7cf45307426d84814438adff40f5",
      "99e8aff52ee44d009cc35a30d041eb40",
      "6a9001dae13e4fde98ea7121c04509f8",
      "b13166c974464716916b8ee616065108",
      "8831952ba0b744609b1dcd200841e98f",
      "d40e48cf68404b3db8afb0e5bcf8e88b",
      "9e5ed55b57c74493b2bfa809ae1c8d4d",
      "0421c94efe3f4a93ae843d5ec9e69d0a",
      "2830fc19f61c4047b08a15ad5365c2fa",
      "f512e680744c4fa2bded6a357c03ab1a",
      "36175081d6964e28aabc4713f6f428fb",
      "489212c3b19e47998063d40817a0c502",
      "00a1542ea9e147fd82dd7f5d0c79deb9",
      "9c6117fc24d04879a9893c5e67343add",
      "b0378ceb4e1f4db592538a2e7b7da61f",
      "cced16af4ae54f31b75f456ef46cf393",
      "3bc25a7fe6ae46918a26d5bded6ca1b7",
      "415a8b251da8411f99c3bc907a0cd4a0",
      "1686788b47244ed88b0059d55a501ed1",
      "71c5d22106614c7d9f40ccc7a4239fc4",
      "7218ed1ca522403f94efc26b7679df1e",
      "77e5e5fd4411403095c507884d328649",
      "de6da2355e6c45cf8294817d977a25b0",
      "02bfbec2bdbd42d1bb25d3f7d3c14860",
      "68961686dd634e6999d0ad1b8f1f403d",
      "4b6d3febe0ae47a980543feaf46f2f21",
      "1d391bf0ceb34b3988cd6ef10c222467",
      "35bb3282cb504146b8090afce713d0b4",
      "2352f89d49554397b17d21f1a7a957d9",
      "991a3e4baf3e455487b4057f0e00bed9",
      "e508a5fc42d24cffb6514bfbf802cb4e",
      "fbfcd7f0a8e5468a960e10292bfadb4f",
      "687e43529f4644f8b65b62635063c06d",
      "3970abc4945240bd818e1bf162e07de6",
      "a27081fc170348b5be60214a6677923f",
      "a0330acd2bc24009a88749fe08e36451",
      "62057fba76a24dd6829d5be25279abaf",
      "f363e9481f874d63a2df597871d762b0",
      "c0b3592f9ad84bf0b4b2a8b8f1c359fb",
      "14cbdaa89b0a4df79a75ddb5417036ac",
      "5dfe5620cc254f4c87daae2330ba4e58",
      "cf21ef9c05ba4572a991d2cb0d864c66",
      "5874621ad7914564b68b897ec938ad9c",
      "181045c39ed347cdab57c741d051bf95",
      "bd8cafed8d6c40b2ac91d48e8d691e5d",
      "a56e9afb28c14e6da6805afe25f5a796",
      "37c2aff18fd54551b183559eb1a38527",
      "3a7dd821e40043fea5e3fd16ad66e30d",
      "f139ddf4269144b39184ed43c75d006c",
      "433c95b486ce450e9365320559b61352",
      "ff29785eadc44657be6e2eae312b596a",
      "1f2e01e811ec411cb1b26d073ccb69d7",
      "40fdf40ad1734628b6cf8f461f9614ae"
     ]
    },
    "id": "yA3xozjuo-f1",
    "outputId": "055842c0-764a-43bd-c331-09ec1bdc3e1f"
   },
   "outputs": [
    {
     "data": {
      "application/vnd.jupyter.widget-view+json": {
       "model_id": "6ddd7d0b9a6546e680f0d3b8ba8bbbb4",
       "version_major": 2,
       "version_minor": 0
      },
      "text/plain": [
       "modules.json:   0%|          | 0.00/349 [00:00<?, ?B/s]"
      ]
     },
     "metadata": {},
     "output_type": "display_data"
    },
    {
     "data": {
      "application/vnd.jupyter.widget-view+json": {
       "model_id": "9116d61d43c04b02bdfa206b107578b1",
       "version_major": 2,
       "version_minor": 0
      },
      "text/plain": [
       "config_sentence_transformers.json:   0%|          | 0.00/116 [00:00<?, ?B/s]"
      ]
     },
     "metadata": {},
     "output_type": "display_data"
    },
    {
     "data": {
      "application/vnd.jupyter.widget-view+json": {
       "model_id": "c25f42c228034563b2a5cab12d1e664e",
       "version_major": 2,
       "version_minor": 0
      },
      "text/plain": [
       "README.md:   0%|          | 0.00/10.7k [00:00<?, ?B/s]"
      ]
     },
     "metadata": {},
     "output_type": "display_data"
    },
    {
     "data": {
      "application/vnd.jupyter.widget-view+json": {
       "model_id": "9887f943572d44dea09a9a6b5467ed1c",
       "version_major": 2,
       "version_minor": 0
      },
      "text/plain": [
       "sentence_bert_config.json:   0%|          | 0.00/53.0 [00:00<?, ?B/s]"
      ]
     },
     "metadata": {},
     "output_type": "display_data"
    },
    {
     "data": {
      "application/vnd.jupyter.widget-view+json": {
       "model_id": "083bae4586b6478b9c4bda8308030ce3",
       "version_major": 2,
       "version_minor": 0
      },
      "text/plain": [
       "config.json:   0%|          | 0.00/612 [00:00<?, ?B/s]"
      ]
     },
     "metadata": {},
     "output_type": "display_data"
    },
    {
     "data": {
      "application/vnd.jupyter.widget-view+json": {
       "model_id": "ed8c802da21c4908a74fd29e9c85c90e",
       "version_major": 2,
       "version_minor": 0
      },
      "text/plain": [
       "model.safetensors:   0%|          | 0.00/90.9M [00:00<?, ?B/s]"
      ]
     },
     "metadata": {},
     "output_type": "display_data"
    },
    {
     "data": {
      "application/vnd.jupyter.widget-view+json": {
       "model_id": "9f48bb47b9914248b2f50f23cc605ef3",
       "version_major": 2,
       "version_minor": 0
      },
      "text/plain": [
       "tokenizer_config.json:   0%|          | 0.00/350 [00:00<?, ?B/s]"
      ]
     },
     "metadata": {},
     "output_type": "display_data"
    },
    {
     "data": {
      "application/vnd.jupyter.widget-view+json": {
       "model_id": "f512e680744c4fa2bded6a357c03ab1a",
       "version_major": 2,
       "version_minor": 0
      },
      "text/plain": [
       "vocab.txt:   0%|          | 0.00/232k [00:00<?, ?B/s]"
      ]
     },
     "metadata": {},
     "output_type": "display_data"
    },
    {
     "data": {
      "application/vnd.jupyter.widget-view+json": {
       "model_id": "7218ed1ca522403f94efc26b7679df1e",
       "version_major": 2,
       "version_minor": 0
      },
      "text/plain": [
       "tokenizer.json:   0%|          | 0.00/466k [00:00<?, ?B/s]"
      ]
     },
     "metadata": {},
     "output_type": "display_data"
    },
    {
     "data": {
      "application/vnd.jupyter.widget-view+json": {
       "model_id": "fbfcd7f0a8e5468a960e10292bfadb4f",
       "version_major": 2,
       "version_minor": 0
      },
      "text/plain": [
       "special_tokens_map.json:   0%|          | 0.00/112 [00:00<?, ?B/s]"
      ]
     },
     "metadata": {},
     "output_type": "display_data"
    },
    {
     "data": {
      "application/vnd.jupyter.widget-view+json": {
       "model_id": "5874621ad7914564b68b897ec938ad9c",
       "version_major": 2,
       "version_minor": 0
      },
      "text/plain": [
       "config.json:   0%|          | 0.00/190 [00:00<?, ?B/s]"
      ]
     },
     "metadata": {},
     "output_type": "display_data"
    }
   ],
   "source": [
    "from sentence_transformers import SentenceTransformer, util\n",
    "\n",
    "# Load a lightweight similarity model\n",
    "similarity_model = SentenceTransformer(\"all-MiniLM-L6-v2\")\n",
    "\n",
    "def semantic_similarity(query, original_question):\n",
    "\n",
    "    embeddings = similarity_model.encode([query, original_question], convert_to_tensor=True)\n",
    "    score = util.pytorch_cos_sim(embeddings[0], embeddings[1]).item()\n",
    "    return score  # Higher means better match\n",
    "\n",
    "\n"
   ]
  },
  {
   "cell_type": "code",
   "execution_count": 46,
   "metadata": {
    "id": "ZyigNXhTpbgg"
   },
   "outputs": [],
   "source": [
    "def compute_confidence(query, original_question, conn=None):\n",
    "\n",
    "    log_prob = get_query_log_prob(query)\n",
    "    syntax_valid = is_valid_sql(query)\n",
    "    similarity = semantic_similarity(query, original_question)\n",
    "    length_penalty = len(query) / 100  # Normalize penalty\n",
    "\n",
    "    # Tunable weights\n",
    "    alpha, beta, delta, epsilon = 1.0, 1.0, 1.0, 10.0\n",
    "\n",
    "    confidence_score = (\n",
    "        alpha * log_prob +\n",
    "        beta * (1 if syntax_valid else -1) -\n",
    "        delta * length_penalty +\n",
    "        epsilon * similarity\n",
    "    )\n",
    "\n",
    "    return confidence_score"
   ]
  },
  {
   "cell_type": "code",
   "execution_count": 47,
   "metadata": {
    "colab": {
     "base_uri": "https://localhost:8080/"
    },
    "id": "H5ZlPhsrpJrn",
    "outputId": "a2f43b6f-ea5d-44cf-81f0-4c180903971f"
   },
   "outputs": [
    {
     "name": "stdout",
     "output_type": "stream",
     "text": [
      "SELECT \"Date of Transaction\" FROM table_print_sales WHERE \"Date of Transaction\" = '10 pages' 5.801543090417981\n",
      "SELECT \"Date of Transaction\" FROM rec_print_sales WHERE \"Date of Transaction\" = '10 pages' 6.084007328748703\n",
      "SELECT SELECT \"Date of Transaction\" FROM table_print_sales WHERE \"Date of Transaction\" = '10 pages' 5.65997760951519\n",
      "SELECT \"Date of Transaction\" FROM tables_print_sales WHERE \"Date of Transaction\" = '10 pages' 5.687733292281628\n",
      "SELECT \"Date of Transaction\" FROM SELECT \"Date of Transaction\" FROM table_print_sales WHERE \"Date of Transaction\" = '10 pages' 5.098223378658295\n"
     ]
    }
   ],
   "source": [
    "for i in generate_sql_queries(output, 5):\n",
    "  print(i, compute_confidence(i, context))"
   ]
  },
  {
   "cell_type": "code",
   "execution_count": 43,
   "metadata": {
    "colab": {
     "base_uri": "https://localhost:8080/"
    },
    "id": "ScAcI-8QrSNQ",
    "outputId": "d4400327-f1be-46c4-ca90-587b1952f7a2"
   },
   "outputs": [
    {
     "name": "stdout",
     "output_type": "stream",
     "text": [
      "SELECT \"Date of Transaction\" FROM table_print_sales WHERE \"Date of Transaction\" = '10 pages' 0.5736451148986816\n",
      "SELECT \"Date of Transaction\" FROM rec_print_sales WHERE \"Date of Transaction\" = '10 pages' 0.6007857322692871\n",
      "SELECT SELECT \"Date of Transaction\" FROM table_print_sales WHERE \"Date of Transaction\" = '10 pages' 0.5738469362258911\n",
      "SELECT \"Date of Transaction\" FROM tables_print_sales WHERE \"Date of Transaction\" = '10 pages' 0.5698244571685791\n",
      "SELECT \"Date of Transaction\" FROM SELECT \"Date of Transaction\" FROM table_print_sales WHERE \"Date of Transaction\" = '10 pages' 0.5647733211517334\n"
     ]
    }
   ],
   "source": [
    "for i in generate_sql_queries(output, 5):\n",
    "  print(i, semantic_similarity(i, context))"
   ]
  },
  {
   "cell_type": "code",
   "execution_count": null,
   "metadata": {
    "id": "AHjrIiV-o-rN"
   },
   "outputs": [],
   "source": []
  },
  {
   "cell_type": "code",
   "execution_count": null,
   "metadata": {
    "id": "z-yKpU-gs435"
   },
   "outputs": [],
   "source": []
  },
  {
   "cell_type": "markdown",
   "metadata": {
    "id": "aDhjbERMbmgf"
   },
   "source": [
    "# Web app"
   ]
  },
  {
   "cell_type": "markdown",
   "metadata": {
    "id": "x-0irKUdbt0X"
   },
   "source": [
    "##server side"
   ]
  },
  {
   "cell_type": "code",
   "execution_count": null,
   "metadata": {
    "colab": {
     "base_uri": "https://localhost:8080/",
     "height": 270
    },
    "id": "ZJ4u8pOGbl1N",
    "outputId": "4a2f0c3d-90d0-4fca-a185-5d25be6fc20a"
   },
   "outputs": [
    {
     "name": "stdout",
     "output_type": "stream",
     "text": [
      "Requirement already satisfied: anvil-uplink in /usr/local/lib/python3.11/dist-packages (0.5.2)\n",
      "Collecting argparse (from anvil-uplink)\n",
      "  Using cached argparse-1.4.0-py2.py3-none-any.whl.metadata (2.8 kB)\n",
      "Requirement already satisfied: future in /usr/local/lib/python3.11/dist-packages (from anvil-uplink) (1.0.0)\n",
      "Requirement already satisfied: six in /usr/local/lib/python3.11/dist-packages (from anvil-uplink) (1.17.0)\n",
      "Requirement already satisfied: ws4py-sslupdate in /usr/local/lib/python3.11/dist-packages (from anvil-uplink) (0.5.1b0)\n",
      "Using cached argparse-1.4.0-py2.py3-none-any.whl (23 kB)\n",
      "Installing collected packages: argparse\n",
      "Successfully installed argparse-1.4.0\n"
     ]
    },
    {
     "data": {
      "application/vnd.colab-display-data+json": {
       "id": "1be5be9c59cc47bbb7442d904201c4c1",
       "pip_warning": {
        "packages": [
         "argparse"
        ]
       }
      }
     },
     "metadata": {},
     "output_type": "display_data"
    }
   ],
   "source": [
    "!pip install anvil-uplink"
   ]
  },
  {
   "cell_type": "code",
   "execution_count": null,
   "metadata": {
    "id": "CSOXetuMcRfa"
   },
   "outputs": [],
   "source": [
    "import anvil.server"
   ]
  },
  {
   "cell_type": "code",
   "execution_count": null,
   "metadata": {
    "id": "NTmhspDgcVGx"
   },
   "outputs": [],
   "source": [
    "anvil.server.connect(\"server_Z2VZWQTD5CQBZWLT4VBUAA42-57ADWD323GRPAAAJ\")"
   ]
  },
  {
   "cell_type": "code",
   "execution_count": null,
   "metadata": {
    "id": "5JwfCVzHcVNH"
   },
   "outputs": [],
   "source": [
    "@anvil.server.callable\n",
    "def generate_query(question, context):\n",
    "\n",
    "  if context:\n",
    "    prompt = f\"\"\"Tables:\n",
    "    {context}\n",
    "\n",
    "    Question:\n",
    "    {question}\n",
    "\n",
    "    Answer:\n",
    "    \"\"\"\n",
    "  else:\n",
    "    def_context = \"\"\"create table rec_print_sales(\"Date of Transaction\" DATE, \"Student name\" VARCHAR, \"Number of print pages\" INT, \"Number of Xerox copies\" INT, \"Amount paid\" INT);\"\"\"\n",
    "    prompt = f\"\"\"Tables:\n",
    "    {def_context}\n",
    "\n",
    "    Question:\n",
    "    {question}\n",
    "\n",
    "    Answer:\n",
    "    \"\"\"\n",
    "  inputs = tokenizer(prompt, return_tensors='pt')\n",
    "  inputs = inputs.to('cuda')\n",
    "\n",
    "  output = tokenizer.decode(finetuned_model.generate(inputs[\"input_ids\"],max_new_tokens=200,)[0],skip_special_tokens=True)\n",
    "\n",
    "  conn = sqlite3.connect('test.db')\n",
    "  flag=0\n",
    "  try:\n",
    "    df = pd.read_sql(output, conn)\n",
    "  except:\n",
    "    flag=1\n",
    "  if flag==0:\n",
    "    results=[output, flag, df]\n",
    "  else:\n",
    "    results=[output, flag]\n",
    "  return results"
   ]
  },
  {
   "cell_type": "code",
   "execution_count": null,
   "metadata": {
    "id": "_WVNC6dSeero"
   },
   "outputs": [],
   "source": [
    "anvil.server.wait_forever()"
   ]
  },
  {
   "cell_type": "markdown",
   "metadata": {
    "id": "Yg0NUk2MkhmL"
   },
   "source": [
    "#SQL side"
   ]
  },
  {
   "cell_type": "markdown",
   "metadata": {
    "id": "mSgSHKqSoJUg"
   },
   "source": [
    "## Setup"
   ]
  },
  {
   "cell_type": "code",
   "execution_count": null,
   "metadata": {
    "id": "O0zOzV2_tkPI"
   },
   "outputs": [],
   "source": [
    "import sqlite3"
   ]
  },
  {
   "cell_type": "code",
   "execution_count": null,
   "metadata": {
    "id": "xtGhOPaqkj2w"
   },
   "outputs": [],
   "source": [
    "%load_ext sql"
   ]
  },
  {
   "cell_type": "code",
   "execution_count": null,
   "metadata": {
    "id": "SdbEU6aekj_L"
   },
   "outputs": [],
   "source": [
    "%%sql\n",
    "sqlite:///test.db"
   ]
  },
  {
   "cell_type": "code",
   "execution_count": null,
   "metadata": {
    "colab": {
     "base_uri": "https://localhost:8080/"
    },
    "id": "QgAcTFYMkkGN",
    "outputId": "c7a2f3b6-c5de-40c7-d4f1-c50803c1c27a"
   },
   "outputs": [
    {
     "name": "stdout",
     "output_type": "stream",
     "text": [
      " * sqlite:///test.db\n",
      "Done.\n"
     ]
    },
    {
     "data": {
      "text/plain": [
       "[]"
      ]
     },
     "execution_count": 22,
     "metadata": {},
     "output_type": "execute_result"
    }
   ],
   "source": [
    "%%sql\n",
    "create table rec_print_sales(Date_of_Transaction date, Student_name varchar, Number_of_print_pages int, Number_of_Xerox_copies int, Amount_paid int);"
   ]
  },
  {
   "cell_type": "code",
   "execution_count": null,
   "metadata": {
    "colab": {
     "base_uri": "https://localhost:8080/"
    },
    "id": "1t4Lk3k0ee0Z",
    "outputId": "17e2fe19-6d75-4ddf-e673-8a47c988e647"
   },
   "outputs": [
    {
     "name": "stdout",
     "output_type": "stream",
     "text": [
      " * sqlite:///test.db\n",
      "51 rows affected.\n"
     ]
    },
    {
     "data": {
      "text/plain": [
       "[]"
      ]
     },
     "execution_count": 23,
     "metadata": {},
     "output_type": "execute_result"
    }
   ],
   "source": [
    "%%sql\n",
    "INSERT INTO rec_print_sales (Date_of_Transaction, Student_name, Number_of_print_pages, Number_of_Xerox_copies, Amount_paid) VALUES\n",
    "('2025-03-01', 'Alice Johnson', 15, 3, 50),\n",
    "('2025-03-02', 'Bob Smith', 30, 5, 100),\n",
    "('2025-03-03', 'Charlie Brown', 25, 7, 90),\n",
    "('2025-03-04', 'David White', 40, 2, 120),\n",
    "('2025-03-05', 'Emma Clark', 10, 4, 45),\n",
    "('2025-03-06', 'Fiona Harris', 20, 8, 85),\n",
    "('2025-03-07', 'George Williams', 35, 6, 110),\n",
    "('2025-03-08', 'Hannah Lee', 50, 10, 160),\n",
    "('2025-03-09', 'Isaac Moore', 60, 5, 150),\n",
    "('2025-03-10', 'Jack Taylor', 45, 12, 130),\n",
    "('2025-03-11', 'Liam King', 20, 3, 60),\n",
    "('2025-03-12', 'Mia Scott', 30, 5, 95),\n",
    "('2025-03-13', 'Noah Lewis', 25, 2, 75),\n",
    "('2025-03-14', 'Olivia Walker', 18, 4, 65),\n",
    "('2025-03-15', 'Parker Harris', 28, 6, 90),\n",
    "('2025-03-16', 'Quinn Evans', 36, 7, 105),\n",
    "('2025-03-17', 'Ryan Mitchell', 22, 3, 70),\n",
    "('2025-03-18', 'Sophia Adams', 40, 10, 125),\n",
    "('2025-03-19', 'Thomas Roberts', 48, 8, 140),\n",
    "('2025-03-20', 'Ursula Cooper', 50, 9, 145),\n",
    "('2025-03-21', 'Victor Martin', 32, 4, 95),\n",
    "('2025-03-22', 'Wendy Young', 26, 5, 80),\n",
    "('2025-03-23', 'Xander Allen', 55, 10, 150),\n",
    "('2025-03-24', 'Yara Gonzalez', 38, 6, 110),\n",
    "('2025-03-25', 'Zachary Perez', 41, 3, 115),\n",
    "('2025-03-26', 'Amelia Garcia', 29, 2, 85),\n",
    "('2025-03-27', 'Benjamin Kim', 33, 4, 100),\n",
    "('2025-03-28', 'Chloe Nelson', 24, 7, 85),\n",
    "('2025-03-29', 'Daniel Clark', 60, 5, 155),\n",
    "('2025-03-30', 'Ella Turner', 44, 8, 125),\n",
    "('2025-03-31', 'Finn Walker', 53, 9, 140),\n",
    "('2025-04-01', 'Grace Harris', 39, 3, 95),\n",
    "('2025-04-02', 'Henry Lewis', 42, 10, 135),\n",
    "('2025-04-03', 'Isla Scott', 31, 6, 100),\n",
    "('2025-04-04', 'James Moore', 27, 5, 85),\n",
    "('2025-04-05', 'Katherine Brown', 22, 4, 75),\n",
    "('2025-04-06', 'Leo White', 19, 7, 60),\n",
    "('2025-04-07', 'Maya Johnson', 36, 6, 110),\n",
    "('2025-04-08', 'Nina King', 48, 5, 140),\n",
    "('2025-04-09', 'Oscar Adams', 41, 3, 125),\n",
    "('2025-04-10', 'Paige Taylor', 28, 9, 95),\n",
    "('2025-04-11', 'Quincy Robinson', 52, 8, 145),\n",
    "('2025-04-12', 'Riley Young', 39, 6, 115),\n",
    "('2025-04-13', 'Sophia Martin', 33, 4, 95),\n",
    "('2025-04-14', 'Travis Hall', 47, 10, 150),\n",
    "('2025-04-15', 'Uma Lee', 21, 2, 60),\n",
    "('2025-04-16', 'Violet Mitchell', 29, 7, 85),\n",
    "('2025-04-17', 'Willow Roberts', 34, 3, 95),\n",
    "('2025-04-18', 'Xander Moore', 45, 9, 130),\n",
    "('2025-04-19', 'Yasmine Green', 38, 4, 105),\n",
    "('2025-04-20', 'Zane White', 50, 5, 140);"
   ]
  },
  {
   "cell_type": "code",
   "execution_count": null,
   "metadata": {
    "id": "Bz5xysSGtdnV"
   },
   "outputs": [],
   "source": [
    "conn = sqlite3.connect('test.db')"
   ]
  },
  {
   "cell_type": "markdown",
   "metadata": {
    "id": "QBjeplrToL8g"
   },
   "source": [
    "## Running SQL"
   ]
  },
  {
   "cell_type": "code",
   "execution_count": null,
   "metadata": {
    "id": "nDfNzjI7sats"
   },
   "outputs": [],
   "source": [
    "query = 'SELECT \"Date_of_Transaction\" FROM rec_print_sales WHERE \"Number_of_Xerox_copies\" = 3'"
   ]
  },
  {
   "cell_type": "code",
   "execution_count": null,
   "metadata": {
    "id": "EOg5sHqttwUq"
   },
   "outputs": [],
   "source": [
    "df = pd.read_sql(query, conn)"
   ]
  },
  {
   "cell_type": "code",
   "execution_count": null,
   "metadata": {
    "colab": {
     "base_uri": "https://localhost:8080/",
     "height": 269
    },
    "id": "_jJwBjhXtwgN",
    "outputId": "73958950-28ab-490b-bea7-10b161145eaa"
   },
   "outputs": [
    {
     "data": {
      "application/vnd.google.colaboratory.intrinsic+json": {
       "summary": "{\n  \"name\": \"df\",\n  \"rows\": 7,\n  \"fields\": [\n    {\n      \"column\": \"Date_of_Transaction\",\n      \"properties\": {\n        \"dtype\": \"object\",\n        \"num_unique_values\": 7,\n        \"samples\": [\n          \"2025-03-01\",\n          \"2025-03-11\",\n          \"2025-04-09\"\n        ],\n        \"semantic_type\": \"\",\n        \"description\": \"\"\n      }\n    }\n  ]\n}",
       "type": "dataframe",
       "variable_name": "df"
      },
      "text/html": [
       "\n",
       "  <div id=\"df-3445f2c7-dc16-416c-be1f-9ded3dd0f374\" class=\"colab-df-container\">\n",
       "    <div>\n",
       "<style scoped>\n",
       "    .dataframe tbody tr th:only-of-type {\n",
       "        vertical-align: middle;\n",
       "    }\n",
       "\n",
       "    .dataframe tbody tr th {\n",
       "        vertical-align: top;\n",
       "    }\n",
       "\n",
       "    .dataframe thead th {\n",
       "        text-align: right;\n",
       "    }\n",
       "</style>\n",
       "<table border=\"1\" class=\"dataframe\">\n",
       "  <thead>\n",
       "    <tr style=\"text-align: right;\">\n",
       "      <th></th>\n",
       "      <th>Date_of_Transaction</th>\n",
       "    </tr>\n",
       "  </thead>\n",
       "  <tbody>\n",
       "    <tr>\n",
       "      <th>0</th>\n",
       "      <td>2025-03-01</td>\n",
       "    </tr>\n",
       "    <tr>\n",
       "      <th>1</th>\n",
       "      <td>2025-03-11</td>\n",
       "    </tr>\n",
       "    <tr>\n",
       "      <th>2</th>\n",
       "      <td>2025-03-17</td>\n",
       "    </tr>\n",
       "    <tr>\n",
       "      <th>3</th>\n",
       "      <td>2025-03-25</td>\n",
       "    </tr>\n",
       "    <tr>\n",
       "      <th>4</th>\n",
       "      <td>2025-04-01</td>\n",
       "    </tr>\n",
       "    <tr>\n",
       "      <th>5</th>\n",
       "      <td>2025-04-09</td>\n",
       "    </tr>\n",
       "    <tr>\n",
       "      <th>6</th>\n",
       "      <td>2025-04-17</td>\n",
       "    </tr>\n",
       "  </tbody>\n",
       "</table>\n",
       "</div>\n",
       "    <div class=\"colab-df-buttons\">\n",
       "\n",
       "  <div class=\"colab-df-container\">\n",
       "    <button class=\"colab-df-convert\" onclick=\"convertToInteractive('df-3445f2c7-dc16-416c-be1f-9ded3dd0f374')\"\n",
       "            title=\"Convert this dataframe to an interactive table.\"\n",
       "            style=\"display:none;\">\n",
       "\n",
       "  <svg xmlns=\"http://www.w3.org/2000/svg\" height=\"24px\" viewBox=\"0 -960 960 960\">\n",
       "    <path d=\"M120-120v-720h720v720H120Zm60-500h600v-160H180v160Zm220 220h160v-160H400v160Zm0 220h160v-160H400v160ZM180-400h160v-160H180v160Zm440 0h160v-160H620v160ZM180-180h160v-160H180v160Zm440 0h160v-160H620v160Z\"/>\n",
       "  </svg>\n",
       "    </button>\n",
       "\n",
       "  <style>\n",
       "    .colab-df-container {\n",
       "      display:flex;\n",
       "      gap: 12px;\n",
       "    }\n",
       "\n",
       "    .colab-df-convert {\n",
       "      background-color: #E8F0FE;\n",
       "      border: none;\n",
       "      border-radius: 50%;\n",
       "      cursor: pointer;\n",
       "      display: none;\n",
       "      fill: #1967D2;\n",
       "      height: 32px;\n",
       "      padding: 0 0 0 0;\n",
       "      width: 32px;\n",
       "    }\n",
       "\n",
       "    .colab-df-convert:hover {\n",
       "      background-color: #E2EBFA;\n",
       "      box-shadow: 0px 1px 2px rgba(60, 64, 67, 0.3), 0px 1px 3px 1px rgba(60, 64, 67, 0.15);\n",
       "      fill: #174EA6;\n",
       "    }\n",
       "\n",
       "    .colab-df-buttons div {\n",
       "      margin-bottom: 4px;\n",
       "    }\n",
       "\n",
       "    [theme=dark] .colab-df-convert {\n",
       "      background-color: #3B4455;\n",
       "      fill: #D2E3FC;\n",
       "    }\n",
       "\n",
       "    [theme=dark] .colab-df-convert:hover {\n",
       "      background-color: #434B5C;\n",
       "      box-shadow: 0px 1px 3px 1px rgba(0, 0, 0, 0.15);\n",
       "      filter: drop-shadow(0px 1px 2px rgba(0, 0, 0, 0.3));\n",
       "      fill: #FFFFFF;\n",
       "    }\n",
       "  </style>\n",
       "\n",
       "    <script>\n",
       "      const buttonEl =\n",
       "        document.querySelector('#df-3445f2c7-dc16-416c-be1f-9ded3dd0f374 button.colab-df-convert');\n",
       "      buttonEl.style.display =\n",
       "        google.colab.kernel.accessAllowed ? 'block' : 'none';\n",
       "\n",
       "      async function convertToInteractive(key) {\n",
       "        const element = document.querySelector('#df-3445f2c7-dc16-416c-be1f-9ded3dd0f374');\n",
       "        const dataTable =\n",
       "          await google.colab.kernel.invokeFunction('convertToInteractive',\n",
       "                                                    [key], {});\n",
       "        if (!dataTable) return;\n",
       "\n",
       "        const docLinkHtml = 'Like what you see? Visit the ' +\n",
       "          '<a target=\"_blank\" href=https://colab.research.google.com/notebooks/data_table.ipynb>data table notebook</a>'\n",
       "          + ' to learn more about interactive tables.';\n",
       "        element.innerHTML = '';\n",
       "        dataTable['output_type'] = 'display_data';\n",
       "        await google.colab.output.renderOutput(dataTable, element);\n",
       "        const docLink = document.createElement('div');\n",
       "        docLink.innerHTML = docLinkHtml;\n",
       "        element.appendChild(docLink);\n",
       "      }\n",
       "    </script>\n",
       "  </div>\n",
       "\n",
       "\n",
       "<div id=\"df-d8bf0583-dd38-4268-b341-5463b48f13fe\">\n",
       "  <button class=\"colab-df-quickchart\" onclick=\"quickchart('df-d8bf0583-dd38-4268-b341-5463b48f13fe')\"\n",
       "            title=\"Suggest charts\"\n",
       "            style=\"display:none;\">\n",
       "\n",
       "<svg xmlns=\"http://www.w3.org/2000/svg\" height=\"24px\"viewBox=\"0 0 24 24\"\n",
       "     width=\"24px\">\n",
       "    <g>\n",
       "        <path d=\"M19 3H5c-1.1 0-2 .9-2 2v14c0 1.1.9 2 2 2h14c1.1 0 2-.9 2-2V5c0-1.1-.9-2-2-2zM9 17H7v-7h2v7zm4 0h-2V7h2v10zm4 0h-2v-4h2v4z\"/>\n",
       "    </g>\n",
       "</svg>\n",
       "  </button>\n",
       "\n",
       "<style>\n",
       "  .colab-df-quickchart {\n",
       "      --bg-color: #E8F0FE;\n",
       "      --fill-color: #1967D2;\n",
       "      --hover-bg-color: #E2EBFA;\n",
       "      --hover-fill-color: #174EA6;\n",
       "      --disabled-fill-color: #AAA;\n",
       "      --disabled-bg-color: #DDD;\n",
       "  }\n",
       "\n",
       "  [theme=dark] .colab-df-quickchart {\n",
       "      --bg-color: #3B4455;\n",
       "      --fill-color: #D2E3FC;\n",
       "      --hover-bg-color: #434B5C;\n",
       "      --hover-fill-color: #FFFFFF;\n",
       "      --disabled-bg-color: #3B4455;\n",
       "      --disabled-fill-color: #666;\n",
       "  }\n",
       "\n",
       "  .colab-df-quickchart {\n",
       "    background-color: var(--bg-color);\n",
       "    border: none;\n",
       "    border-radius: 50%;\n",
       "    cursor: pointer;\n",
       "    display: none;\n",
       "    fill: var(--fill-color);\n",
       "    height: 32px;\n",
       "    padding: 0;\n",
       "    width: 32px;\n",
       "  }\n",
       "\n",
       "  .colab-df-quickchart:hover {\n",
       "    background-color: var(--hover-bg-color);\n",
       "    box-shadow: 0 1px 2px rgba(60, 64, 67, 0.3), 0 1px 3px 1px rgba(60, 64, 67, 0.15);\n",
       "    fill: var(--button-hover-fill-color);\n",
       "  }\n",
       "\n",
       "  .colab-df-quickchart-complete:disabled,\n",
       "  .colab-df-quickchart-complete:disabled:hover {\n",
       "    background-color: var(--disabled-bg-color);\n",
       "    fill: var(--disabled-fill-color);\n",
       "    box-shadow: none;\n",
       "  }\n",
       "\n",
       "  .colab-df-spinner {\n",
       "    border: 2px solid var(--fill-color);\n",
       "    border-color: transparent;\n",
       "    border-bottom-color: var(--fill-color);\n",
       "    animation:\n",
       "      spin 1s steps(1) infinite;\n",
       "  }\n",
       "\n",
       "  @keyframes spin {\n",
       "    0% {\n",
       "      border-color: transparent;\n",
       "      border-bottom-color: var(--fill-color);\n",
       "      border-left-color: var(--fill-color);\n",
       "    }\n",
       "    20% {\n",
       "      border-color: transparent;\n",
       "      border-left-color: var(--fill-color);\n",
       "      border-top-color: var(--fill-color);\n",
       "    }\n",
       "    30% {\n",
       "      border-color: transparent;\n",
       "      border-left-color: var(--fill-color);\n",
       "      border-top-color: var(--fill-color);\n",
       "      border-right-color: var(--fill-color);\n",
       "    }\n",
       "    40% {\n",
       "      border-color: transparent;\n",
       "      border-right-color: var(--fill-color);\n",
       "      border-top-color: var(--fill-color);\n",
       "    }\n",
       "    60% {\n",
       "      border-color: transparent;\n",
       "      border-right-color: var(--fill-color);\n",
       "    }\n",
       "    80% {\n",
       "      border-color: transparent;\n",
       "      border-right-color: var(--fill-color);\n",
       "      border-bottom-color: var(--fill-color);\n",
       "    }\n",
       "    90% {\n",
       "      border-color: transparent;\n",
       "      border-bottom-color: var(--fill-color);\n",
       "    }\n",
       "  }\n",
       "</style>\n",
       "\n",
       "  <script>\n",
       "    async function quickchart(key) {\n",
       "      const quickchartButtonEl =\n",
       "        document.querySelector('#' + key + ' button');\n",
       "      quickchartButtonEl.disabled = true;  // To prevent multiple clicks.\n",
       "      quickchartButtonEl.classList.add('colab-df-spinner');\n",
       "      try {\n",
       "        const charts = await google.colab.kernel.invokeFunction(\n",
       "            'suggestCharts', [key], {});\n",
       "      } catch (error) {\n",
       "        console.error('Error during call to suggestCharts:', error);\n",
       "      }\n",
       "      quickchartButtonEl.classList.remove('colab-df-spinner');\n",
       "      quickchartButtonEl.classList.add('colab-df-quickchart-complete');\n",
       "    }\n",
       "    (() => {\n",
       "      let quickchartButtonEl =\n",
       "        document.querySelector('#df-d8bf0583-dd38-4268-b341-5463b48f13fe button');\n",
       "      quickchartButtonEl.style.display =\n",
       "        google.colab.kernel.accessAllowed ? 'block' : 'none';\n",
       "    })();\n",
       "  </script>\n",
       "</div>\n",
       "\n",
       "  <div id=\"id_b5db1160-e09f-4783-ad9c-e06bb5bd54c2\">\n",
       "    <style>\n",
       "      .colab-df-generate {\n",
       "        background-color: #E8F0FE;\n",
       "        border: none;\n",
       "        border-radius: 50%;\n",
       "        cursor: pointer;\n",
       "        display: none;\n",
       "        fill: #1967D2;\n",
       "        height: 32px;\n",
       "        padding: 0 0 0 0;\n",
       "        width: 32px;\n",
       "      }\n",
       "\n",
       "      .colab-df-generate:hover {\n",
       "        background-color: #E2EBFA;\n",
       "        box-shadow: 0px 1px 2px rgba(60, 64, 67, 0.3), 0px 1px 3px 1px rgba(60, 64, 67, 0.15);\n",
       "        fill: #174EA6;\n",
       "      }\n",
       "\n",
       "      [theme=dark] .colab-df-generate {\n",
       "        background-color: #3B4455;\n",
       "        fill: #D2E3FC;\n",
       "      }\n",
       "\n",
       "      [theme=dark] .colab-df-generate:hover {\n",
       "        background-color: #434B5C;\n",
       "        box-shadow: 0px 1px 3px 1px rgba(0, 0, 0, 0.15);\n",
       "        filter: drop-shadow(0px 1px 2px rgba(0, 0, 0, 0.3));\n",
       "        fill: #FFFFFF;\n",
       "      }\n",
       "    </style>\n",
       "    <button class=\"colab-df-generate\" onclick=\"generateWithVariable('df')\"\n",
       "            title=\"Generate code using this dataframe.\"\n",
       "            style=\"display:none;\">\n",
       "\n",
       "  <svg xmlns=\"http://www.w3.org/2000/svg\" height=\"24px\"viewBox=\"0 0 24 24\"\n",
       "       width=\"24px\">\n",
       "    <path d=\"M7,19H8.4L18.45,9,17,7.55,7,17.6ZM5,21V16.75L18.45,3.32a2,2,0,0,1,2.83,0l1.4,1.43a1.91,1.91,0,0,1,.58,1.4,1.91,1.91,0,0,1-.58,1.4L9.25,21ZM18.45,9,17,7.55Zm-12,3A5.31,5.31,0,0,0,4.9,8.1,5.31,5.31,0,0,0,1,6.5,5.31,5.31,0,0,0,4.9,4.9,5.31,5.31,0,0,0,6.5,1,5.31,5.31,0,0,0,8.1,4.9,5.31,5.31,0,0,0,12,6.5,5.46,5.46,0,0,0,6.5,12Z\"/>\n",
       "  </svg>\n",
       "    </button>\n",
       "    <script>\n",
       "      (() => {\n",
       "      const buttonEl =\n",
       "        document.querySelector('#id_b5db1160-e09f-4783-ad9c-e06bb5bd54c2 button.colab-df-generate');\n",
       "      buttonEl.style.display =\n",
       "        google.colab.kernel.accessAllowed ? 'block' : 'none';\n",
       "\n",
       "      buttonEl.onclick = () => {\n",
       "        google.colab.notebook.generateWithVariable('df');\n",
       "      }\n",
       "      })();\n",
       "    </script>\n",
       "  </div>\n",
       "\n",
       "    </div>\n",
       "  </div>\n"
      ],
      "text/plain": [
       "  Date_of_Transaction\n",
       "0          2025-03-01\n",
       "1          2025-03-11\n",
       "2          2025-03-17\n",
       "3          2025-03-25\n",
       "4          2025-04-01\n",
       "5          2025-04-09\n",
       "6          2025-04-17"
      ]
     },
     "execution_count": 46,
     "metadata": {},
     "output_type": "execute_result"
    }
   ],
   "source": [
    "df"
   ]
  }
 ],
 "metadata": {
  "accelerator": "GPU",
  "colab": {
   "collapsed_sections": [
    "e0PoaJOqah_D",
    "Q2GgE-k_al0f"
   ],
   "gpuType": "T4",
   "provenance": []
  },
  "kernelspec": {
   "display_name": "Python 3 (ipykernel)",
   "language": "python",
   "name": "python3"
  },
  "language_info": {
   "codemirror_mode": {
    "name": "ipython",
    "version": 3
   },
   "file_extension": ".py",
   "mimetype": "text/x-python",
   "name": "python",
   "nbconvert_exporter": "python",
   "pygments_lexer": "ipython3",
   "version": "3.11.3"
  }
 },
 "nbformat": 4,
 "nbformat_minor": 1
}
